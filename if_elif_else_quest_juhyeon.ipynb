{
  "nbformat": 4,
  "nbformat_minor": 0,
  "metadata": {
    "colab": {
      "provenance": [],
      "authorship_tag": "ABX9TyMqHHXc0oz2ztEp13W6+BQ4",
      "include_colab_link": true
    },
    "kernelspec": {
      "name": "python3",
      "display_name": "Python 3"
    },
    "language_info": {
      "name": "python"
    }
  },
  "cells": [
    {
      "cell_type": "markdown",
      "metadata": {
        "id": "view-in-github",
        "colab_type": "text"
      },
      "source": [
        "<a href=\"https://colab.research.google.com/github/juhyeon0205/study_temps/blob/main/if_elif_else_quest_juhyeon.ipynb\" target=\"_parent\"><img src=\"https://colab.research.google.com/assets/colab-badge.svg\" alt=\"Open In Colab\"/></a>"
      ]
    },
    {
      "cell_type": "code",
      "execution_count": 3,
      "metadata": {
        "colab": {
          "base_uri": "https://localhost:8080/"
        },
        "id": "5jbTCwLZvZcJ",
        "outputId": "43db7e25-97c3-467a-f758-2fba8c0ba92f"
      },
      "outputs": [
        {
          "output_type": "stream",
          "name": "stdout",
          "text": [
            "B\n",
            "Program End !\n"
          ]
        }
      ],
      "source": [
        "#quest\n",
        "scores = 81\n",
        "if (scores >= 90) :\n",
        "  pass\n",
        "  print(\"A\")\n",
        "elif (scores >= 80) :\n",
        "  pass\n",
        "  print(\"B\")\n",
        "elif(scores >= 70):\n",
        "  pass\n",
        "  print(\"C\")\n",
        "elif(scores >= 60):\n",
        "  pass\n",
        "  print(\"D\")\n",
        "else :\n",
        "  pass\n",
        "  print(\"F\")\n",
        "\n",
        "print(\"Program End !\")"
      ]
    }
  ]
}