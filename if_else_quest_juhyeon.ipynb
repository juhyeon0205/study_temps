{
  "nbformat": 4,
  "nbformat_minor": 0,
  "metadata": {
    "colab": {
      "provenance": [],
      "authorship_tag": "ABX9TyME6CfL9WcwyFosjmI/lkBG",
      "include_colab_link": true
    },
    "kernelspec": {
      "name": "python3",
      "display_name": "Python 3"
    },
    "language_info": {
      "name": "python"
    }
  },
  "cells": [
    {
      "cell_type": "markdown",
      "metadata": {
        "id": "view-in-github",
        "colab_type": "text"
      },
      "source": [
        "<a href=\"https://colab.research.google.com/github/juhyeon0205/study_temps/blob/main/if_else_quest_juhyeon.ipynb\" target=\"_parent\"><img src=\"https://colab.research.google.com/assets/colab-badge.svg\" alt=\"Open In Colab\"/></a>"
      ]
    },
    {
      "cell_type": "code",
      "execution_count": 6,
      "metadata": {
        "colab": {
          "base_uri": "https://localhost:8080/"
        },
        "id": "I0_vgjdOarzT",
        "outputId": "42b7848f-e30d-43bd-beda-b39b16a16a93"
      },
      "outputs": [
        {
          "output_type": "stream",
          "name": "stdout",
          "text": [
            "왼쪽\n",
            "Program End!\n"
          ]
        }
      ],
      "source": [
        "# quest\n",
        "road = \"left\"\n",
        "if (road == \"left\"):\n",
        "  pass\n",
        "  print(\"왼쪽\")\n",
        "else :\n",
        "  pass\n",
        "  print(\"오른쪽\")\n",
        "print(\"Program End!\")\n",
        ""
      ]
    },
    {
      "cell_type": "code",
      "source": [],
      "metadata": {
        "id": "e5rt2uRRa_fx"
      },
      "execution_count": null,
      "outputs": []
    }
  ]
}