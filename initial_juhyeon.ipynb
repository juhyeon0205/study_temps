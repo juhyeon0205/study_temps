{
  "nbformat": 4,
  "nbformat_minor": 0,
  "metadata": {
    "colab": {
      "provenance": [],
      "authorship_tag": "ABX9TyNgobg8LFLOlAiggngI2ChT",
      "include_colab_link": true
    },
    "kernelspec": {
      "name": "python3",
      "display_name": "Python 3"
    },
    "language_info": {
      "name": "python"
    }
  },
  "cells": [
    {
      "cell_type": "markdown",
      "metadata": {
        "id": "view-in-github",
        "colab_type": "text"
      },
      "source": [
        "<a href=\"https://colab.research.google.com/github/juhyeon0205/study_temps/blob/main/initial_juhyeon.ipynb\" target=\"_parent\"><img src=\"https://colab.research.google.com/assets/colab-badge.svg\" alt=\"Open In Colab\"/></a>"
      ]
    },
    {
      "cell_type": "code",
      "execution_count": 1,
      "metadata": {
        "colab": {
          "base_uri": "https://localhost:8080/"
        },
        "id": "my9FliNwjtWH",
        "outputId": "67f3b61b-237d-4d9a-c8bc-a16b96928191"
      },
      "outputs": [
        {
          "output_type": "stream",
          "name": "stdout",
          "text": [
            "안녕하세요. 첫 개발 시작입니다.\n"
          ]
        }
      ],
      "source": [
        "# 여긴 화면 출력 명령어\n",
        "print(\"안녕하세요. 첫 개발 시작입니다.\") # 안녕. 출력"
      ]
    },
    {
      "cell_type": "code",
      "source": [
        "# quest 1\n",
        "print(\"노주현은 데이터 엔지니어 양성과정을 듣습니다.\")"
      ],
      "metadata": {
        "colab": {
          "base_uri": "https://localhost:8080/"
        },
        "id": "wQcYPBXIoSyr",
        "outputId": "a2e21c29-98c6-49a6-a615-dd9195359cba"
      },
      "execution_count": 2,
      "outputs": [
        {
          "output_type": "stream",
          "name": "stdout",
          "text": [
            "노주현은 데이터 엔지니어 양성과정을 듣습니다.\n"
          ]
        }
      ]
    },
    {
      "cell_type": "code",
      "source": [
        "# 숫자화된 문자 출력 with 상수\n",
        "print(\"4 + 5\")"
      ],
      "metadata": {
        "colab": {
          "base_uri": "https://localhost:8080/"
        },
        "id": "aXAOLb4ItjT6",
        "outputId": "ae035454-31a2-4a2f-b549-96ff8fa99930"
      },
      "execution_count": 3,
      "outputs": [
        {
          "output_type": "stream",
          "name": "stdout",
          "text": [
            "4 + 5\n"
          ]
        }
      ]
    },
    {
      "cell_type": "code",
      "source": [
        "# 숫자 with 상수\n",
        "print(4 + 5)"
      ],
      "metadata": {
        "colab": {
          "base_uri": "https://localhost:8080/"
        },
        "id": "S4TMBPFjt2-J",
        "outputId": "e02b5ffb-5a03-4b7a-a9a1-7fc3068f8689"
      },
      "execution_count": 4,
      "outputs": [
        {
          "output_type": "stream",
          "name": "stdout",
          "text": [
            "9\n"
          ]
        }
      ]
    },
    {
      "cell_type": "code",
      "source": [
        "# 숫자화된 문자 출력 with 변수\n",
        "numberwithval = \"4 + 5\"\n",
        "print(numberwithval)"
      ],
      "metadata": {
        "colab": {
          "base_uri": "https://localhost:8080/"
        },
        "id": "XX6LUb06t6OE",
        "outputId": "307e7ead-1537-4af0-a555-36cd86f7d715"
      },
      "execution_count": 5,
      "outputs": [
        {
          "output_type": "stream",
          "name": "stdout",
          "text": [
            "4 + 5\n"
          ]
        }
      ]
    },
    {
      "cell_type": "code",
      "source": [
        "# 숫자화된 문자 출력 with 변수\n",
        "numberwithval2 = \"40 + 50\"\n",
        "print(numberwithval2)"
      ],
      "metadata": {
        "colab": {
          "base_uri": "https://localhost:8080/"
        },
        "id": "I79gjWSU2LZL",
        "outputId": "9aa462d3-ef8e-49e2-9010-1f58114de00d"
      },
      "execution_count": 6,
      "outputs": [
        {
          "output_type": "stream",
          "name": "stdout",
          "text": [
            "40 + 50\n"
          ]
        }
      ]
    },
    {
      "cell_type": "code",
      "source": [
        "# 숫자화된 변수 출력 with 변수\n",
        "numbers = numberwithval2 + \" = 90\"\n",
        "print(numbers)"
      ],
      "metadata": {
        "colab": {
          "base_uri": "https://localhost:8080/"
        },
        "id": "a3t8Rkf-07Aa",
        "outputId": "181ab53e-f025-41bf-9eec-a4d093315660"
      },
      "execution_count": 7,
      "outputs": [
        {
          "output_type": "stream",
          "name": "stdout",
          "text": [
            "40 + 50 = 90\n"
          ]
        }
      ]
    },
    {
      "cell_type": "code",
      "source": [
        "define_number = 10\n",
        "numberwithval = numberwithval + str(define_number)\n",
        "print(numberwithval)"
      ],
      "metadata": {
        "colab": {
          "base_uri": "https://localhost:8080/"
        },
        "id": "_GihvTut4Tge",
        "outputId": "8a2ad226-8812-4e4f-a34a-4990809a219c"
      },
      "execution_count": 8,
      "outputs": [
        {
          "output_type": "stream",
          "name": "stdout",
          "text": [
            "4 + 510\n"
          ]
        }
      ]
    },
    {
      "cell_type": "code",
      "source": [
        "# 데이터 타입이 숫자 with 변수\n",
        "result = 4 + 5\n",
        "print(result)"
      ],
      "metadata": {
        "id": "G8fgymT_8r1i",
        "colab": {
          "base_uri": "https://localhost:8080/"
        },
        "outputId": "a3315981-ac4a-43ba-b926-a4b5805fba9f"
      },
      "execution_count": 9,
      "outputs": [
        {
          "output_type": "stream",
          "name": "stdout",
          "text": [
            "9\n"
          ]
        }
      ]
    },
    {
      "cell_type": "code",
      "source": [
        "# 두 수를 입력 받아 변수에 넣고 결과 출력\n",
        "input = 4\n",
        "inputtwo = 5\n",
        "result = input + inputtwo\n",
        "print(result)"
      ],
      "metadata": {
        "colab": {
          "base_uri": "https://localhost:8080/"
        },
        "id": "Aidx0wctBlN9",
        "outputId": "38819fca-957e-4ab1-fc69-34575e0d85ff"
      },
      "execution_count": 10,
      "outputs": [
        {
          "output_type": "stream",
          "name": "stdout",
          "text": [
            "9\n"
          ]
        }
      ]
    },
    {
      "cell_type": "code",
      "source": [
        "# 위에 내용 반복\n",
        "input = 8\n",
        "inputtwo = 9\n",
        "result = input + inputtwo\n",
        "print(result)"
      ],
      "metadata": {
        "colab": {
          "base_uri": "https://localhost:8080/"
        },
        "id": "WVzgH2FlCt6y",
        "outputId": "c66132e1-2b0c-460d-c90b-134e8a8d27bb"
      },
      "execution_count": 11,
      "outputs": [
        {
          "output_type": "stream",
          "name": "stdout",
          "text": [
            "17\n"
          ]
        }
      ]
    },
    {
      "cell_type": "code",
      "source": [
        "#여긴 화면 출력 명령어\n",
        "print(\"안녕하세요. 첫 개발 시작입니다.\") # 안녕. 출력\n",
        "#quest 1\n",
        "print(\"노주현은 데이터 엔지니어 양성과정을 듣습니다.\")\n",
        "# 숫자화된 문자 출력 with 상수\n",
        "print(\"4 + 5\")\n",
        "# 숫자 with 상수\n",
        "print( 4 + 5)\n",
        "# 숫자화된 문자 출력 with 변수\n",
        "numberwithval = \"4 + 5\"\n",
        "print(numberwithval)\n",
        "#숫자화된 문자 출력 with 변수\n",
        "numberwithval2 = \"40 + 50\"\n",
        "print(numberwithval2)\n",
        "#숫자화된 변수 출력 with 변수\n",
        "numbers =numberwithval2 + \" = 90\"\n",
        "print(numbers)\n",
        "define_number = 10\n",
        "numberwithval = numberwithval + str(define_number)\n",
        "print(numberwithval)\n",
        "#데이터 타입이 숫자 with 변수\n",
        "result = 4 + 5\n",
        "print(result)\n",
        "# 두 수를 입력 받아 변수에 넣고 결과 출력\n",
        "input = 4\n",
        "inputtwo = 5\n",
        "result = input + inputtwo\n",
        "print(result)\n",
        "# 위에 내용 반복\n",
        "input = 8\n",
        "inputtwo = 9\n",
        "result = input + inputtwo\n",
        "print(result)"
      ],
      "metadata": {
        "colab": {
          "base_uri": "https://localhost:8080/"
        },
        "id": "niQ47ADREkaa",
        "outputId": "138c731e-bd15-41a4-f838-317614f8d50f"
      },
      "execution_count": 12,
      "outputs": [
        {
          "output_type": "stream",
          "name": "stdout",
          "text": [
            "안녕하세요. 첫 개발 시작입니다.\n",
            "노주현은 데이터 엔지니어 양성과정을 듣습니다.\n",
            "4 + 5\n",
            "9\n",
            "4 + 5\n",
            "40 + 50\n",
            "40 + 50 = 90\n",
            "4 + 510\n",
            "9\n",
            "9\n",
            "17\n"
          ]
        }
      ]
    },
    {
      "cell_type": "code",
      "source": [],
      "metadata": {
        "id": "pSGLDBuXQzGR"
      },
      "execution_count": null,
      "outputs": []
    }
  ]
}